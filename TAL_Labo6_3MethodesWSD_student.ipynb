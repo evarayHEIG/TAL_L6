{
 "cells": [
  {
   "cell_type": "markdown",
   "metadata": {},
   "source": [
    "<img src=\"https://heig-vd.ch/docs/default-source/doc-global-newsletter/2020-slim.svg\" alt=\"HEIG-VD Logo\" width=\"100\"/>\n",
    "\n",
    "# Cours TAL - Laboratoire 6\n",
    "# Trois méthodes de désambiguïsation lexicale\n",
    "\n",
    "**Objectif**\n",
    "\n",
    "L'objectif de ce laboratoire est d'implémenter et de comparer plusieurs méthodes de désambiguïsation lexicale (en anglais, *Word Sense Disambiguation* ou WSD).  Vous utiliserez un corpus avec plusieurs milliers de phrases, chaque phrase contenant une occurrence du mot anglais *interest* annotée avec le sens que ce mot possède dans la phrase respective.  Les trois méthodes sont les suivantes (elles seront détaillées par la suite) :\n",
    "\n",
    "* Algorithme de Lesk simplifié.\n",
    "* Utilisation de word2vec.\n",
    "* Classification supervisée utilisant des traits lexicaux.\n",
    "\n",
    "Les deux premières méthodes n'utilisent pas l'apprentissage automatique.  Elles fonctionnent selon le même principe : comparer le contexte d'une occurrence de *interest* avec chacune des définitions des sens (*synsets*) et choisir la définition la plus proche du contexte.  L'algorithme de Lesk définit la proximité comme le nombre de mots en commun, alors que word2vec la calcule comme la similarité de vecteurs.  La dernière méthode vise à classifier les occurrences de *interest*, les sens étant les classes, et les attributs étant les mots du contexte (apprentissage supervisé)."
   ]
  },
  {
   "cell_type": "markdown",
   "metadata": {},
   "source": [
    "## 1. Analyse des données\n",
    "\n",
    "Téléchargez le corpus *interest* depuis le [site du Prof. Ted Pedersen](http://www.d.umn.edu/~tpederse/data.html) (il se trouve en bas de sa page web).  Téléchargez l'archive ZIP marquée *original format without POS tags* et extrayez le fichier `interest-original.txt`.  Téléchargez également le fichier `README.int.txt` indiqué à la ligne au-dessus. Veuillez répondre brièvement aux questions suivantes :\n",
    "\n",
    "a. Quelles sont les URL du fichier ZIP et celle du fichier `README.int.txt` ?\n",
    "\n",
    "b. Quel est le format du fichier `interest-original.txt` et comment sont annotés les sens de *interest* ?\n",
    "\n",
    "c. Est-ce qu'il y a aussi des occurrences au pluriel (*interests*) à traite ?\n",
    "\n",
    "d. Comment sont annotées les phrases qui contiennent plusieurs occurrences du mot *interest* ?"
   ]
  },
  {
   "metadata": {},
   "cell_type": "markdown",
   "source": [
    "# Veuillez répondre ici (en commentaire) aux questions.\n",
    "a.\n",
    "- fichier ZIP: https://www.d.umn.edu/~tpederse/Data/interest-original.nopos.tar.gz\n",
    "- README: https://www.d.umn.edu/~tpederse/Data/README.int.txt\n",
    "b.\n",
    "Dans le document `interest-original.txt`,\n",
    "- Les phrases sont séparées par `$$`.\n",
    "- Les phrases ont déjà été tokenisées.\n",
    "- Le mot `interest` est remplacé par `interest_num`, où le numéro peut être de 1 à 6 et\n",
    "représente le sens du mot `interest` dans la phrase. Les 6 sens possibles sont présentés\n",
    "à la question e.\n",
    "- Les mots `interests` au pluriel ont simplement un `s` en plus avant le numéro.\n",
    "\n",
    "c.\n",
    "\n",
    "Oui, il y aussi des occurrences au pluriel à traiter. Lorsque le mot `interest` est au pluriel,\n",
    "il y a simplement un `s` à la fin du mot, avant le numéro. Par exemple, on peut avoir `interests_5`\n",
    "pour un mot `interest` au pluriel.\n",
    "\n",
    "d. Par exemple, en regardant le document, on peut voir par exemple cette phrase apparaissant deux fois dans le fichier, contenant deux fois le mot interest.\n",
    "```\n",
    "====================================== as  part  of  its decision  to leave  the building  ,  chase  tried to sell  its interest_5  , along with  the atlas estate 's *interest  , shortly after  the october 1987 stock market crash  .\n",
    "$$\n",
    "====================================== as  part  of  its decision  to leave  the building  ,  chase  tried to sell  its *interest  , along with  the atlas estate 's interest_5  , shortly after  the october 1987 stock market crash  .\n",
    "$$\n",
    "```\n",
    "On peut voir que lorsqu'une phrase contient plusieurs occurrences du mot `interest`, seulement un de ces mots est annoté et les autres sont préfixés d'un `*`. La phrase peut être dupliquée en annotant chaque fois un des `interest` différents.\n",
    "\n"
   ]
  },
  {
   "cell_type": "markdown",
   "metadata": {},
   "source": [
    "**1e.** D'après le fichier `README.int.txt`, quelles sont les définitions des six sens de *interest* annotés dans les données et quelles sont leurs fréquences ? Vous pouvez copier/coller l'extrait de `README`ici."
   ]
  },
  {
   "metadata": {},
   "cell_type": "markdown",
   "source": [
    "# Veuillez répondre ici (en commentaire) à la question.\n",
    "\n",
    "```\n",
    "Sense 1 =  361 occurrences (15%) - readiness to give attention\n",
    "Sense 2 =   11 occurrences (01%) - quality of causing attention to be given to\n",
    "Sense 3 =   66 occurrences (03%) - activity, etc. that one gives attention to\n",
    "Sense 4 =  178 occurrences (08%) - advantage, advancement or favor\n",
    "Sense 5 =  500 occurrences (21%) - a share in a company or business\n",
    "Sense 6 = 1252 occurrences (53%) - money paid for the use of money\n",
    "```\n"
   ]
  },
  {
   "cell_type": "markdown",
   "metadata": {},
   "source": [
    "**1f.** De quel dictionnaire viennent les sens précédents ? Où peut-on le consulter en ligne ?  Veuillez aligner les définitions du dictionnaire avec les six sens annotés en écrivant par exemple `Sense 3 = \"an activity that you enjoy doing or a subject that you enjoy studying\"`."
   ]
  },
  {
   "metadata": {},
   "cell_type": "markdown",
   "source": [
    "# Veuillez répondre ici (en commentaire) à la question.\n",
    "Les sens sont tirés du dictionnaire Longman's Dictionary of Contemporary English qui est disponible au lien suivant : https://www.ldoceonline.com/ et les sens du mot `interest` peuvent être trouvés à ce lien : https://www.ldoceonline.com/dictionary/interest\n",
    "\n",
    "- Sense 1 = \"if you have an interest in something or someone, you want to know or learn more about them\"\n",
    "- Sense 2 = \"a quality or feature of something that attracts your attention or makes you want to know more about it\"\n",
    "- Sense 3 = \"an activity that you enjoy doing or a subject that you enjoy studying\"\n",
    "- Sense 4 = \"the things that bring advantages to someone or something\"\n",
    "- Sense 5 = \"if you have an interest in a particular company or industry, you own shares in it\"\n",
    "- Sense 6 = \"money paid to you by a bank or financial institution when you keep money in an account there\"\n"
   ]
  },
  {
   "cell_type": "markdown",
   "metadata": {},
   "source": [
    "**1g.** En consultant [WordNet en ligne](http://wordnetweb.princeton.edu/perl/webwn), trouvez les définitions des synsets  pour le **nom commun** *interest*.  Combien de synsets y a-t-il ?  Veuillez indiquer comme avant la **définition** de chaque synset pour chacun des six sens ci-dessus (au besoin, fusionner ou ignorer des synsets)."
   ]
  },
  {
   "metadata": {},
   "cell_type": "markdown",
   "source": [
    "# Veuillez répondre ici (en commentaire) à la question.\n",
    "\n",
    "Il y a 7 synsets dans lequel le mot `interest` apparait dans WordNet.\n",
    "1. interest, involvement -- (a sense of concern with and curiosity about someone or something; \"an interest in music\")\n",
    "2. interest, interestingness -- (the power of attracting or holding one's attention (because it is unusual or exciting etc.); \"they said nothing of great interest\"; \"primary colors can add interest to a room\")\n",
    "3. sake, interest -- (a reason for wanting something done; \"for your sake\"; \"died for the sake of his country\"; \"in the interest of safety\"; \"in the common interest\")\n",
    "4. interest -- (a fixed charge for borrowing money; usually a percentage of the amount borrowed; \"how much interest do you pay on your mortgage?\")\n",
    "5. pastime, interest, pursuit -- (a diversion that occupies one's time and thoughts (usually pleasantly); \"sailing is her favorite pastime\"; \"his main pastime is gambling\"; \"he counts reading among his interests\"; \"they criticized the boy for his limited pursuits\")\n",
    "6. interest, stake -- ((law) a right or legal share of something; a financial involvement with something; \"they have interests all over the world\"; \"a stake in the company's future\")\n",
    "7. interest, interest group -- ((usually plural) a social group whose members control some field of activity and who have common aims; \"the iron interests stepped up production\")\n",
    "\n",
    "Les sens donnés dans `interest-original.txt` correspondent aux synsets suivant:\n",
    "- Sense 1 = 1\n",
    "- Sense 2 = 2\n",
    "- Sense 3 = 5\n",
    "- Sense 4 = 3\n",
    "- Sense 5 = 6\n",
    "- Sense 6 = 4\n",
    "\n",
    "Le synset 7 n'est pas représenté.\n"
   ]
  },
  {
   "cell_type": "markdown",
   "metadata": {},
   "source": [
    "**1h.** Définissez (manuellement, ou avec quelques lignes de code) une liste nommée `senses1` avec les mots des définitions du README, en supprimant les stopwords (p.ex. les mots < 4 lettres).  Affichez la liste."
   ]
  },
  {
   "cell_type": "code",
   "execution_count": null,
   "metadata": {},
   "outputs": [],
   "source": [
    "import nltk"
   ]
  },
  {
   "cell_type": "code",
   "execution_count": null,
   "metadata": {},
   "outputs": [],
   "source": [
    "from random import randrange"
   ]
  },
  {
   "cell_type": "code",
   "metadata": {
    "ExecuteTime": {
     "end_time": "2025-05-15T13:28:00.259596Z",
     "start_time": "2025-05-15T13:28:00.256247Z"
    }
   },
   "source": [
    "# Veuillez répondre ici à la question et créer la variable 'senses1' (liste de 6 listes de chaînes).\n",
    "senses1 = [['readiness', 'give', 'attention'], ['quality', 'causing', 'attention', 'given'], ['activity', 'gives', 'attention'], ['advantage', 'advancement', 'favor'], ['share', 'company', 'business'], ['money', 'paid', 'use', 'money']]\n",
    "\n",
    "\n",
    "print(senses1)"
   ],
   "outputs": [
    {
     "name": "stdout",
     "output_type": "stream",
     "text": [
      "[['readiness', 'give', 'attention'], ['quality', 'causing', 'attention', 'given'], ['activity', 'gives', 'attention'], ['advantage', 'advancement', 'favor'], ['share', 'company', 'business'], ['money', 'paid', 'use', 'money']]\n"
     ]
    }
   ],
   "execution_count": 43
  },
  {
   "cell_type": "markdown",
   "metadata": {},
   "source": [
    "**1i.** En combinant les définitions obtenues aux points (4) et (5) ci-dessus, construisez une liste nommée `senses2` avec pour chacun des sens de *interest* une liste de **mots-clés** correspondants.  Vous pouvez concaténer les définitions, puis écrire des instructions en Python pour extraire les mots (uniques).  Respectez l'ordre des sens données par `README`, et à la fin affichez `senses2`."
   ]
  },
  {
   "cell_type": "code",
   "metadata": {
    "ExecuteTime": {
     "end_time": "2025-05-15T12:47:38.341359Z",
     "start_time": "2025-05-15T12:47:38.333427Z"
    }
   },
   "source": [
    "# Veuillez répondre ici à la question,  et créer la variable 'senses2' (liste de 6 listes de chaînes).\n",
    "senses2 = [['interest', 'something', 'someone', 'know', 'learn', 'about', 'sense', 'concern', 'curiosity'],\n",
    "    ['quality', 'feature', 'something', 'attracts', 'attention', 'makes', 'want', 'know', 'about', 'power', 'attracting', 'holding'],\n",
    "    ['activity', 'enjoy', 'subject', 'studying', 'diversion', 'occupies', 'time', 'thoughts'],\n",
    "    ['things', 'bring', 'advantages', 'someone', 'something', 'reason', 'wanting', 'something', 'done'],\n",
    "    ['interest', 'particular', 'company', 'industry', 'own', 'shares', 'law', 'right', 'legal', 'share', 'something', 'financial', 'involvement', 'something'],\n",
    "    ['money', 'paid', 'bank', 'financial', 'institution', 'keep', 'account', 'fixed', 'charge', 'borrowing', 'usually', 'percentage', 'amount', 'borrowed']\n",
    "]\n",
    "\n",
    "\n",
    "print(senses2)"
   ],
   "outputs": [
    {
     "name": "stdout",
     "output_type": "stream",
     "text": [
      "[['interest', 'something', 'someone', 'know', 'learn', 'about', 'sense', 'concern', 'curiosity'], ['quality', 'feature', 'something', 'attracts', 'attention', 'makes', 'want', 'know', 'about', 'power', 'attracting', 'holding'], ['activity', 'enjoy', 'subject', 'studying', 'diversion', 'occupies', 'time', 'thoughts'], ['things', 'bring', 'advantages', 'someone', 'something', 'reason', 'wanting', 'something', 'done'], ['have', 'interest', 'particular', 'company', 'industry', 'own', 'shares', 'law', 'right', 'legal', 'share', 'something', 'financial', 'involvement', 'something'], ['money', 'paid', 'bank', 'financial', 'institution', 'keep', 'account', 'fixed', 'charge', 'borrowing', 'usually', 'percentage', 'amount', 'borrowed']]\n"
     ]
    }
   ],
   "execution_count": 9
  },
  {
   "cell_type": "markdown",
   "metadata": {},
   "source": [
    "**1j.** Chargez les données depuis `interest-original.txt` dans une liste appelée `sentences` qui contient pour chaque phrase la liste des mots (sans les séparateurs *$$* et *===...*).  Ces phrases sont-elles déjà tokenisées en mots ?  Sinon, faites-le.  À ce stade, ne modifiez pas encore les occurrences annotées *interest(s)\\_X*.  Comptez le nombre total de phrases et affichez-en trois au hasard."
   ]
  },
  {
   "cell_type": "code",
   "metadata": {
    "ExecuteTime": {
     "end_time": "2025-05-15T12:26:27.911975Z",
     "start_time": "2025-05-15T12:26:27.898101Z"
    }
   },
   "source": [
    "# Veuillez répondre ici à la question.\n",
    "\n",
    "sentences = []\n",
    "with open('data/interest-original.txt', 'r') as f:\n",
    "    for line in f:\n",
    "        line = line.strip()\n",
    "        if line and not (line.startswith(\"===\") or line.startswith(\"$$\")):\n",
    "            sentences.append(line.split())\n",
    "\n",
    "total_sentences = len(sentences)\n",
    "\n",
    "\n",
    "print(\"Il y a {} phrases.\\nEn voici 3 au hasard :\".format(len(sentences)))\n",
    "print(sentences[151:154])"
   ],
   "outputs": [
    {
     "name": "stdout",
     "output_type": "stream",
     "text": [
      "Il y a 1228 phrases.\n",
      "En voici 3 au hasard :\n",
      "[['brunswick', 'also', 'has', 'interests_5', 'in', 'defense', 'and', 'aerospace', 'products', '.'], ['market', 'analysts', 'said', 'that', 'continued', 'declines', 'and', 'volatility', 'in', 'the', 'stock', 'market', 'contributed', 'generally', 'to', 'enhanced', 'investor', 'interest_1', 'in', 'precious', 'metals', ',', 'but', 'that', 'the', 'british', 'political', 'news', 'was', 'the', 'main', 'factor', 'boosting', 'prices', ':', 'chancellor', 'of', 'the', 'exchequer', 'nigel', 'lawson', 'resigned', '.'], ['but', 'he', 'also', 'noted', 'that', 'if', 'uncertainty', 'continues', 'in', 'the', 'stock', 'market', ',', 'that', 'might', 'create', 'some', 'investor', 'interest_1', 'in', 'precious', 'metals', '.']]\n"
     ]
    }
   ],
   "execution_count": 2
  },
  {
   "cell_type": "markdown",
   "metadata": {},
   "source": [
    "## 2. Algorithme de Lesk simplifié\n",
    "\n",
    "**2a.** Définissez une fonction `wsd_lesk(senses, sentence)` qui prend deux arguments : une liste de listes de mots-clés (comme `senses1` et `senses2` ci-dessus) et une phrase avec une occurrence annotée de *interest* ou *interests*, et qui retourne l'index du sens le plus probable (entre 1 et 6) selon l'algorithme de Lesk.  Cet algorithme choisit le sens qui a le maximum de mots en commun avec le contexte de *interest*.  Vous pouvez choisir vous-mêmes la taille de ce voisinage (`window_size`).  En cas d'égalité entre deux sens, tirer la réponse au sort."
   ]
  },
  {
   "cell_type": "code",
   "metadata": {
    "ExecuteTime": {
     "end_time": "2025-05-15T13:24:25.821078Z",
     "start_time": "2025-05-15T13:24:25.817403Z"
    }
   },
   "source": [
    "# Veuillez répondre ici à la question.\n",
    "\n",
    "def wsd_lesk(senses, sentence, window_size):\n",
    "    index = -1\n",
    "    pos = 0\n",
    "    for word in sentence:\n",
    "        if \"interest\" in word:\n",
    "            index = pos\n",
    "            break\n",
    "        pos += 1\n",
    "    context = sentence[max(index-window_size, 0):min(index+window_size, len(sentence))]\n",
    "    intersections = []\n",
    "    for sense in senses:\n",
    "        intersections.append(len(set(context).intersection(set(sense))))\n",
    "    return intersections.index(max(intersections)) + 1\n",
    "\n",
    "\n",
    "\n"
   ],
   "outputs": [
    {
     "name": "stdout",
     "output_type": "stream",
     "text": [
      "['longer', 'maturities', 'are', 'thought', 'to', 'indicate', 'declining', 'interest_6', 'rates', 'because', 'they', 'permit', 'portfolio', 'managers', 'to', 'retain', 'relatively', 'higher', 'rates', 'for', 'a', 'longer', 'period', '.']\n"
     ]
    }
   ],
   "execution_count": 40
  },
  {
   "cell_type": "markdown",
   "metadata": {},
   "source": [
    "**2b.** Définissez maintenant une fonction `evaluate_wsd(fct_name, senses, sentences)` qui prend en paramètre le nom de la méthode de similarité (pour commencer : `wsd_lesk`) ainsi que la liste des mots-clés par sens, et la liste de phrases, et qui retourne le score de la méthode de similarité.  Ce score sera tout simplement le pourcentage de réponses correctes (sens trouvé identique au sens annoté)."
   ]
  },
  {
   "cell_type": "code",
   "metadata": {
    "ExecuteTime": {
     "end_time": "2025-05-15T13:24:28.705817Z",
     "start_time": "2025-05-15T13:24:28.686655Z"
    }
   },
   "source": [
    "import re\n",
    "\n",
    "\n",
    "# Veuillez répondre ici à la question.\n",
    "def evaluate_wsd(fct_name, senses, sentences, window_size = 7):\n",
    "  score = 0\n",
    "  for sentence in sentences:\n",
    "    for i, w in enumerate(sentence):\n",
    "      if re.match('^interest[s]?_[1-6]$', w):\n",
    "        system_sense = int(w[-1])\n",
    "        result = fct_name(senses, sentence, window_size)\n",
    "        if system_sense == result:\n",
    "          score += 1\n",
    "  return score / len(sentences)\n",
    "\n",
    "evaluate_wsd(wsd_lesk, senses2, sentences, 5)\n"
   ],
   "outputs": [
    {
     "data": {
      "text/plain": [
       "0.18892508143322476"
      ]
     },
     "execution_count": 41,
     "metadata": {},
     "output_type": "execute_result"
    }
   ],
   "execution_count": 41
  },
  {
   "cell_type": "markdown",
   "metadata": {},
   "source": [
    "**2c.** En fixant au mieux la taille de la fenêtre autour de *interest*, quel est le meilleur score de la méthode de Lesk simplifiée ?  Quelle liste de sens conduit à de meilleurs scores, `senses1` ou `senses2` ?"
   ]
  },
  {
   "cell_type": "code",
   "metadata": {
    "ExecuteTime": {
     "end_time": "2025-05-15T13:28:07.269782Z",
     "start_time": "2025-05-15T13:28:06.752019Z"
    }
   },
   "source": [
    "# Veuillez répondre ici à la question.\n",
    "\n",
    "\n",
    "print('Sense1')\n",
    "for i in range(1, 20):\n",
    "  print(f'Window size ({i}): {evaluate_wsd(wsd_lesk, senses1, sentences, i)}')\n",
    "\n",
    "print('\\nSense2')\n",
    "for i in range(1, 20):\n",
    "  print(f'Window size ({i}): {evaluate_wsd(wsd_lesk, senses2, sentences, i)}')"
   ],
   "outputs": [
    {
     "name": "stdout",
     "output_type": "stream",
     "text": [
      "Sense1\n",
      "Window size (1): 0.13925081433224756\n",
      "Window size (2): 0.1498371335504886\n",
      "Window size (3): 0.15716612377850162\n",
      "Window size (4): 0.16205211726384364\n",
      "Window size (5): 0.16775244299674266\n",
      "Window size (6): 0.1734527687296417\n",
      "Window size (7): 0.17263843648208468\n",
      "Window size (8): 0.1767100977198697\n",
      "Window size (9): 0.17996742671009772\n",
      "Window size (10): 0.18241042345276873\n",
      "Window size (11): 0.18159609120521172\n",
      "Window size (12): 0.18322475570032573\n",
      "Window size (13): 0.18485342019543974\n",
      "Window size (14): 0.18811074918566775\n",
      "Window size (15): 0.18811074918566775\n",
      "Window size (16): 0.18729641693811075\n",
      "Window size (17): 0.19055374592833876\n",
      "Window size (18): 0.19218241042345277\n",
      "Window size (19): 0.19218241042345277\n",
      "\n",
      "Sense2\n",
      "Window size (1): 0.14250814332247558\n",
      "Window size (2): 0.1473941368078176\n",
      "Window size (3): 0.15798045602605862\n",
      "Window size (4): 0.17019543973941367\n",
      "Window size (5): 0.18892508143322476\n",
      "Window size (6): 0.1986970684039088\n",
      "Window size (7): 0.20195439739413681\n",
      "Window size (8): 0.20846905537459284\n",
      "Window size (9): 0.21254071661237786\n",
      "Window size (10): 0.21579804560260588\n",
      "Window size (11): 0.2182410423452769\n",
      "Window size (12): 0.22394136807817588\n",
      "Window size (13): 0.2263843648208469\n",
      "Window size (14): 0.2296416938110749\n",
      "Window size (15): 0.23127035830618892\n",
      "Window size (16): 0.23208469055374592\n",
      "Window size (17): 0.23534201954397393\n",
      "Window size (18): 0.23534201954397393\n",
      "Window size (19): 0.23859934853420195\n"
     ]
    }
   ],
   "execution_count": 44
  },
  {
   "cell_type": "markdown",
   "metadata": {},
   "source": [
    "## 3. Utilisation de word2vec pour la similarité contexte vs. synset\n",
    "\n",
    "**3a.** En réutilisant une partie du code de `wsd_lesk`, veuillez maintenant définir une fonction `wsd_word2vec(senses, sentence)` qui choisit le sens en utilisant la similarité **word2vec** étudiée dans le labo précédent. \n",
    "* Vous pouvez chercher dans la [documentation des KeyedVectors](https://radimrehurek.com/gensim/models/keyedvectors.html) comment calculer directement la similarité entre deux listes de mots.\n",
    "* Comme `wsd_lesk`, la nouvelle fonction `wsd_word2vec` prend en argument une liste de listes de mots-clés par sens (comme `senses1` et `senses2` ci-dessus), et une phrase avec une occurrence annotée de *interest* ou *interests*.\n",
    "* La fonction retourne le numéro du sens le plus probable selon la similarité word2vec entre les mots du sens et ceux du voisinage de *interest*.  En cas d'égalité, tirer le sens au sort.\n",
    "* Vous pouvez régler la taille du voisinage (`window_size`) par l'expérimentation.  "
   ]
  },
  {
   "cell_type": "code",
   "execution_count": null,
   "metadata": {},
   "outputs": [],
   "source": [
    "import gensim\n",
    "from gensim.models import KeyedVectors\n",
    "path_to_model = \"../../../gensim-data/word2vec-google-news-300/word2vec-google-news-300.gz\" # à adapter\n",
    "wv_model = gensim.models.KeyedVectors.load_word2vec_format(path_to_model, binary=True)  # C bin format"
   ]
  },
  {
   "cell_type": "code",
   "execution_count": null,
   "metadata": {},
   "outputs": [],
   "source": [
    "# Veuillez répondre ici à la question.\n"
   ]
  },
  {
   "cell_type": "markdown",
   "metadata": {},
   "source": [
    "**3b.** Appliquez maintenant la même méthode `evaluate_wsd` avec la fonction `wsd_word2vec` (en cherchant une bonne valeur de la taille de la fenêtre) et affichez le score de la similarité word2vec.  Comment se compare-t-il avec le score précédent (Lesk) ?"
   ]
  },
  {
   "cell_type": "code",
   "execution_count": null,
   "metadata": {},
   "outputs": [],
   "source": [
    "# Veuillez répondre ici à la question.\n"
   ]
  },
  {
   "cell_type": "markdown",
   "metadata": {},
   "source": [
    "## 4. Classification supervisée avec des traits lexicaux\n",
    "Vous entraînerez maintenant des classifieurs pour prédire le sens d'une occurrence dans une phrase.  Le premier but sera de transformer chaque phrase en un ensemble d'attributs pour formater les données en vue des expériences de classification.\n",
    "\n",
    "Veuillez utiliser le classifieur `NaiveBayesClassifier` fourni par NLTK.  Le mode d'emploi se trouve dans le [Chapitre 6, sections 1.1-1.3](https://www.nltk.org/book/ch06.html) du livre NLTK.  Consultez-le attentivement pour trouver comment formater les données.  De plus, il faudra séparer les données en sous-ensembles d'entraînement et de test."
   ]
  },
  {
   "cell_type": "markdown",
   "metadata": {},
   "source": [
    "On vous propose de nommer les attributs `word-k`, ..., `word-2`, `word-1`, `word+1`, `word+2`, ..., `word+k` (fenêtre de taille `2*k` autour de *interest*).  Leurs valeurs sont les mots observés aux emplacements respectifs, ou `NONE` si la position dépasse l'étendue de la phrase.  Vous ajouterez un attribut nommé `word0` qui est l'occurrence du mot *interest* au singulier ou au pluriel.  \n",
    "\n",
    "Pour chaque occurrence de *interest*, vous devrez donc créer la représentation suivante (où `6` est le numéro du sens, essentiel pour l'entraînement, mais à cacher lors de l'évaluation) :\n",
    "```\n",
    "[{'word-1': 'in', 'word+1': 'rates', 'word-2': 'declines', 'word+2': 'NONE', 'word0': 'interest'}, 6]\n",
    "```\n",
    "\n",
    "**4a.** En partant de la liste des phrases appelée `sentences` préparée plus haut, veuillez générer la liste avec toutes les représentation, appelée `items_with_features`.  Vous pouvez vous aider du livre NLTK."
   ]
  },
  {
   "cell_type": "code",
   "execution_count": null,
   "metadata": {},
   "outputs": [],
   "source": [
    "# Veuillez répondre ici à la question.\n",
    "\n",
    "print(len(items_with_features))\n",
    "print(items_with_features[151:154])"
   ]
  },
  {
   "cell_type": "markdown",
   "metadata": {},
   "source": [
    "**4b.** Veuillez séparer les données aléatoirement en 80% pour l'entraînement et 20%  pour l'évaluation.  Veuillez faire une division stratifiée : les deux sous-ensembles doivent contenir les mêmes proportions de sens que l'ensemble de départ.  Ils seront appelés `iwf_train` et `iwf_test`."
   ]
  },
  {
   "cell_type": "code",
   "execution_count": null,
   "metadata": {},
   "outputs": [],
   "source": [
    "from random import shuffle"
   ]
  },
  {
   "cell_type": "code",
   "execution_count": null,
   "metadata": {},
   "outputs": [],
   "source": [
    "iwf_train = []\n",
    "iwf_test  = []\n",
    "# Veuillez répondre ici à la question.\n",
    "\n",
    "print(len(iwf_train), ' ', len(iwf_test))\n",
    "print(iwf_test[:2], iwf_test[-2:])"
   ]
  },
  {
   "cell_type": "markdown",
   "metadata": {},
   "source": [
    "**4c.** Veuillez créer une instance de `NaiveBayesClassifier`, l'entraîner sur `iwf_train` et la tester sur `iwf_test` (voir la documentation NLTK).  En expérimentant avec différentes largeurs de fenêtres, quel est le meilleur score que vous obtenez (avec la fonction `accuracy` de NLTK) sur l'ensemble de test ?  Comment se compare-t-il avec les précédents ?"
   ]
  },
  {
   "cell_type": "code",
   "execution_count": null,
   "metadata": {},
   "outputs": [],
   "source": [
    "from nltk.classify import naivebayes \n",
    "# Veuillez répondre ici à la question.\n"
   ]
  },
  {
   "cell_type": "markdown",
   "metadata": {},
   "source": [
    "**4d.** En utilisant la fonction `show_most_informative_features()`, veuillez afficher les attributs les plus informatifs et commenter le résultat."
   ]
  },
  {
   "cell_type": "code",
   "execution_count": null,
   "metadata": {},
   "outputs": [],
   "source": []
  },
  {
   "cell_type": "markdown",
   "metadata": {},
   "source": [
    "**4e.** On souhaite également obtenir les scores pour chaque sens.  Pour ce faire, il faut demander les prédictions une par une au classifieur (voir le [livre NLTK](https://www.nltk.org/book/ch06.html)), et comptabiliser les prédictions correctes pour chaque sens.  Vous pouvez vous inspirer de `evaluate_wsd`, et écrire une fonction `evaluate_wsd_supervised(classifier, items_with_features)`, que vous appliquerez aux donnés `iwf_test`.  Veuillez afficher ces scores."
   ]
  },
  {
   "cell_type": "code",
   "execution_count": null,
   "metadata": {},
   "outputs": [],
   "source": [
    "def evaluate_wsd_supervised(classifier, items_with_features):\n",
    "# à compléter\n",
    "\n",
    "evaluate_wsd_supervised(classifier, iwf_test)"
   ]
  },
  {
   "cell_type": "markdown",
   "metadata": {},
   "source": [
    "## 5. Conclusion\n",
    "\n",
    "Veuillez recopier ci-dessous, en guise de conclusion, les scores des trois expériences réalisées, pour pouvoir les comparer d'un coup d'oeil.  Quel est le meilleur score obtenu?"
   ]
  },
  {
   "cell_type": "code",
   "execution_count": null,
   "metadata": {},
   "outputs": [],
   "source": []
  },
  {
   "cell_type": "markdown",
   "metadata": {},
   "source": [
    "## Fin du laboratoire\n",
    "\n",
    "Merci de nettoyer votre feuille, sauvegarder le résultat, et soumettre le *notebook* sur Cyberlearn."
   ]
  },
  {
   "cell_type": "code",
   "execution_count": null,
   "metadata": {},
   "outputs": [],
   "source": []
  }
 ],
 "metadata": {
  "kernelspec": {
   "display_name": "Python 3 (ipykernel)",
   "language": "python",
   "name": "python3"
  },
  "language_info": {
   "codemirror_mode": {
    "name": "ipython",
    "version": 3
   },
   "file_extension": ".py",
   "mimetype": "text/x-python",
   "name": "python",
   "nbconvert_exporter": "python",
   "pygments_lexer": "ipython3",
   "version": "3.10.13"
  }
 },
 "nbformat": 4,
 "nbformat_minor": 4
}
