{
 "cells": [
  {
   "cell_type": "markdown",
   "metadata": {},
   "source": [
    "<img src=\"https://heig-vd.ch/docs/default-source/doc-global-newsletter/2020-slim.svg\" alt=\"HEIG-VD Logo\" width=\"100\"/>\n",
    "\n",
    "# Cours TAL - Laboratoire 6\n",
    "# Trois méthodes de désambiguïsation lexicale\n",
    "\n",
    "**Objectif**\n",
    "\n",
    "L'objectif de ce laboratoire est d'implémenter et de comparer plusieurs méthodes de désambiguïsation lexicale (en anglais, *Word Sense Disambiguation* ou WSD).  Vous utiliserez un corpus avec plusieurs milliers de phrases, chaque phrase contenant une occurrence du mot anglais *interest* annotée avec le sens que ce mot possède dans la phrase respective.  Les trois méthodes sont les suivantes (elles seront détaillées par la suite) :\n",
    "\n",
    "* Algorithme de Lesk simplifié.\n",
    "* Utilisation de word2vec.\n",
    "* Classification supervisée utilisant des traits lexicaux.\n",
    "\n",
    "Les deux premières méthodes n'utilisent pas l'apprentissage automatique.  Elles fonctionnent selon le même principe : comparer le contexte d'une occurrence de *interest* avec chacune des définitions des sens (*synsets*) et choisir la définition la plus proche du contexte.  L'algorithme de Lesk définit la proximité comme le nombre de mots en commun, alors que word2vec la calcule comme la similarité de vecteurs.  La dernière méthode vise à classifier les occurrences de *interest*, les sens étant les classes, et les attributs étant les mots du contexte (apprentissage supervisé)."
   ]
  },
  {
   "cell_type": "markdown",
   "metadata": {},
   "source": [
    "## 1. Analyse des données\n",
    "\n",
    "Téléchargez le corpus *interest* depuis le [site du Prof. Ted Pedersen](http://www.d.umn.edu/~tpederse/data.html) (il se trouve en bas de sa page web).  Téléchargez l'archive ZIP marquée *original format without POS tags* et extrayez le fichier `interest-original.txt`.  Téléchargez également le fichier `README.int.txt` indiqué à la ligne au-dessus. Veuillez répondre brièvement aux questions suivantes :\n",
    "\n",
    "a. Quelles sont les URL du fichier ZIP et celle du fichier `README.int.txt` ?\n",
    "\n",
    "b. Quel est le format du fichier `interest-original.txt` et comment sont annotés les sens de *interest* ?\n",
    "\n",
    "c. Est-ce qu'il y a aussi des occurrences au pluriel (*interests*) à traite ?\n",
    "\n",
    "d. Comment sont annotées les phrases qui contiennent plusieurs occurrences du mot *interest* ?"
   ]
  },
  {
   "metadata": {},
   "cell_type": "markdown",
   "source": [
    "# Veuillez répondre ici (en commentaire) aux questions.\n",
    "a.\n",
    "- fichier ZIP: https://www.d.umn.edu/~tpederse/Data/interest-original.nopos.tar.gz\n",
    "- README: https://www.d.umn.edu/~tpederse/Data/README.int.txt\n",
    "b.\n",
    "Dans le document `interest-original.txt`,\n",
    "- Les phrases sont séparées par `$$`.\n",
    "- Les phrases ont déjà été tokenisées.\n",
    "- Le mot `interest` est remplacé par `interest_num`, où le numéro peut être de 1 à 6 et\n",
    "représente le sens du mot `interest` dans la phrase. Les 6 sens possibles sont présentés\n",
    "à la question e.\n",
    "- Les mots `interests` au pluriel ont simplement un `s` en plus avant le numéro.\n",
    "\n",
    "c.\n",
    "\n",
    "Oui, il y aussi des occurrences au pluriel à traiter. Lorsque le mot `interest` est au pluriel,\n",
    "il y a simplement un `s` à la fin du mot, avant le numéro. Par exemple, on peut avoir `interests_5`\n",
    "pour un mot `interest` au pluriel.\n",
    "\n",
    "d. Par exemple, en regardant le document, on peut voir par exemple cette phrase apparaissant deux fois dans le fichier, contenant deux fois le mot interest.\n",
    "```\n",
    "====================================== as  part  of  its decision  to leave  the building  ,  chase  tried to sell  its interest_5  , along with  the atlas estate 's *interest  , shortly after  the october 1987 stock market crash  .\n",
    "$$\n",
    "====================================== as  part  of  its decision  to leave  the building  ,  chase  tried to sell  its *interest  , along with  the atlas estate 's interest_5  , shortly after  the october 1987 stock market crash  .\n",
    "$$\n",
    "```\n",
    "On peut voir que lorsqu'une phrase contient plusieurs occurrences du mot `interest`, seulement un de ces mots est annoté et les autres sont préfixés d'un `*`. La phrase peut être dupliquée en annotant chaque fois un des `interest` différents.\n",
    "\n"
   ]
  },
  {
   "cell_type": "markdown",
   "metadata": {},
   "source": [
    "**1e.** D'après le fichier `README.int.txt`, quelles sont les définitions des six sens de *interest* annotés dans les données et quelles sont leurs fréquences ? Vous pouvez copier/coller l'extrait de `README`ici."
   ]
  },
  {
   "metadata": {},
   "cell_type": "markdown",
   "source": [
    "# Veuillez répondre ici (en commentaire) à la question.\n",
    "\n",
    "```\n",
    "Sense 1 =  361 occurrences (15%) - readiness to give attention\n",
    "Sense 2 =   11 occurrences (01%) - quality of causing attention to be given to\n",
    "Sense 3 =   66 occurrences (03%) - activity, etc. that one gives attention to\n",
    "Sense 4 =  178 occurrences (08%) - advantage, advancement or favor\n",
    "Sense 5 =  500 occurrences (21%) - a share in a company or business\n",
    "Sense 6 = 1252 occurrences (53%) - money paid for the use of money\n",
    "```\n"
   ]
  },
  {
   "cell_type": "markdown",
   "metadata": {},
   "source": [
    "**1f.** De quel dictionnaire viennent les sens précédents ? Où peut-on le consulter en ligne ?  Veuillez aligner les définitions du dictionnaire avec les six sens annotés en écrivant par exemple `Sense 3 = \"an activity that you enjoy doing or a subject that you enjoy studying\"`."
   ]
  },
  {
   "metadata": {},
   "cell_type": "markdown",
   "source": [
    "# Veuillez répondre ici (en commentaire) à la question.\n",
    "Les sens sont tirés du dictionnaire Longman's Dictionary of Contemporary English qui est disponible au lien suivant : https://www.ldoceonline.com/ et les sens du mot `interest` peuvent être trouvés à ce lien : https://www.ldoceonline.com/dictionary/interest\n",
    "\n",
    "- Sense 1 = \"if you have an interest in something or someone, you want to know or learn more about them\"\n",
    "- Sense 2 = \"a quality or feature of something that attracts your attention or makes you want to know more about it\"\n",
    "- Sense 3 = \"an activity that you enjoy doing or a subject that you enjoy studying\"\n",
    "- Sense 4 = \"the things that bring advantages to someone or something\"\n",
    "- Sense 5 = \"if you have an interest in a particular company or industry, you own shares in it\"\n",
    "- Sense 6 = \"money paid to you by a bank or financial institution when you keep money in an account there\"\n"
   ]
  },
  {
   "cell_type": "markdown",
   "metadata": {},
   "source": [
    "**1g.** En consultant [WordNet en ligne](http://wordnetweb.princeton.edu/perl/webwn), trouvez les définitions des synsets  pour le **nom commun** *interest*.  Combien de synsets y a-t-il ?  Veuillez indiquer comme avant la **définition** de chaque synset pour chacun des six sens ci-dessus (au besoin, fusionner ou ignorer des synsets)."
   ]
  },
  {
   "metadata": {},
   "cell_type": "markdown",
   "source": [
    "# Veuillez répondre ici (en commentaire) à la question.\n",
    "\n",
    "Il y a 7 synsets dans lequel le mot `interest` apparait dans WordNet.\n",
    "1. interest, involvement -- (a sense of concern with and curiosity about someone or something; \"an interest in music\")\n",
    "2. interest, interestingness -- (the power of attracting or holding one's attention (because it is unusual or exciting etc.); \"they said nothing of great interest\"; \"primary colors can add interest to a room\")\n",
    "3. sake, interest -- (a reason for wanting something done; \"for your sake\"; \"died for the sake of his country\"; \"in the interest of safety\"; \"in the common interest\")\n",
    "4. interest -- (a fixed charge for borrowing money; usually a percentage of the amount borrowed; \"how much interest do you pay on your mortgage?\")\n",
    "5. pastime, interest, pursuit -- (a diversion that occupies one's time and thoughts (usually pleasantly); \"sailing is her favorite pastime\"; \"his main pastime is gambling\"; \"he counts reading among his interests\"; \"they criticized the boy for his limited pursuits\")\n",
    "6. interest, stake -- ((law) a right or legal share of something; a financial involvement with something; \"they have interests all over the world\"; \"a stake in the company's future\")\n",
    "7. interest, interest group -- ((usually plural) a social group whose members control some field of activity and who have common aims; \"the iron interests stepped up production\")\n",
    "\n",
    "Les sens donnés dans `interest-original.txt` correspondent aux synsets suivant:\n",
    "- Sense 1 = 1\n",
    "- Sense 2 = 2\n",
    "- Sense 3 = 5\n",
    "- Sense 4 = 3\n",
    "- Sense 5 = 6\n",
    "- Sense 6 = 4\n",
    "\n",
    "Le synset 7 n'est pas représenté."
   ]
  },
  {
   "cell_type": "markdown",
   "metadata": {},
   "source": [
    "**1h.** Définissez (manuellement, ou avec quelques lignes de code) une liste nommée `senses1` avec les mots des définitions du README, en supprimant les stopwords (p.ex. les mots < 4 lettres).  Affichez la liste."
   ]
  },
  {
   "cell_type": "code",
   "metadata": {
    "ExecuteTime": {
     "end_time": "2025-05-22T11:39:19.397983Z",
     "start_time": "2025-05-22T11:39:16.053539Z"
    }
   },
   "source": [
    "import nltk\n",
    "from nltk import NaiveBayesClassifier"
   ],
   "outputs": [],
   "execution_count": 1
  },
  {
   "cell_type": "code",
   "metadata": {
    "ExecuteTime": {
     "end_time": "2025-05-22T11:39:20.411991Z",
     "start_time": "2025-05-22T11:39:20.403461Z"
    }
   },
   "source": [
    "from random import randrange"
   ],
   "outputs": [],
   "execution_count": 2
  },
  {
   "cell_type": "code",
   "metadata": {
    "ExecuteTime": {
     "end_time": "2025-05-22T13:39:34.165770Z",
     "start_time": "2025-05-22T13:39:34.144699Z"
    }
   },
   "source": [
    "# Veuillez répondre ici à la question et créer la variable 'senses1' (liste de 6 listes de chaînes).\n",
    "senses1 = [['readiness', 'give', 'attention'], ['quality', 'causing', 'attention'], ['activity', 'gives', 'attention'], ['advantage', 'advancement', 'favor'], ['share', 'company', 'business'], ['paid', 'money']]\n",
    "\n",
    "print(senses1)"
   ],
   "outputs": [
    {
     "name": "stdout",
     "output_type": "stream",
     "text": [
      "[['readiness', 'give', 'attention'], ['quality', 'causing', 'attention'], ['activity', 'gives', 'attention'], ['advantage', 'advancement', 'favor'], ['share', 'company', 'business'], ['paid', 'money']]\n"
     ]
    }
   ],
   "execution_count": 30
  },
  {
   "cell_type": "markdown",
   "metadata": {},
   "source": [
    "**1i.** En combinant les définitions obtenues aux points (4) et (5) ci-dessus, construisez une liste nommée `senses2` avec pour chacun des sens de *interest* une liste de **mots-clés** correspondants.  Vous pouvez concaténer les définitions, puis écrire des instructions en Python pour extraire les mots (uniques).  Respectez l'ordre des sens données par `README`, et à la fin affichez `senses2`."
   ]
  },
  {
   "cell_type": "code",
   "metadata": {
    "ExecuteTime": {
     "end_time": "2025-05-22T11:39:21.585317Z",
     "start_time": "2025-05-22T11:39:21.576074Z"
    }
   },
   "source": [
    "# Veuillez répondre ici à la question,  et créer la variable 'senses2' (liste de 6 listes de chaînes).\n",
    "senses2 = [['interest', 'something', 'someone', 'know', 'learn', 'about', 'sense', 'concern', 'curiosity'],\n",
    "    ['quality', 'feature', 'something', 'attracts', 'attention', 'makes', 'want', 'know', 'about', 'power', 'attracting', 'holding'],\n",
    "    ['activity', 'enjoy', 'subject', 'studying', 'diversion', 'occupies', 'time', 'thoughts'],\n",
    "    ['things', 'bring', 'advantages', 'someone', 'something', 'reason', 'wanting', 'something'],\n",
    "    ['interest', 'particular', 'company', 'industry', 'own', 'shares', 'law', 'right', 'legal', 'share', 'something', 'financial', 'involvement', 'something'],\n",
    "    ['money', 'paid', 'bank', 'financial', 'institution', 'keep', 'account', 'fixed', 'charge', 'borrowing', 'usually', 'percentage', 'amount', 'borrowed']\n",
    "]\n",
    "\n",
    "print(senses2)"
   ],
   "outputs": [
    {
     "name": "stdout",
     "output_type": "stream",
     "text": [
      "[['interest', 'something', 'someone', 'know', 'learn', 'about', 'sense', 'concern', 'curiosity'], ['quality', 'feature', 'something', 'attracts', 'attention', 'makes', 'want', 'know', 'about', 'power', 'attracting', 'holding'], ['activity', 'enjoy', 'subject', 'studying', 'diversion', 'occupies', 'time', 'thoughts'], ['things', 'bring', 'advantages', 'someone', 'something', 'reason', 'wanting', 'something'], ['interest', 'particular', 'company', 'industry', 'own', 'shares', 'law', 'right', 'legal', 'share', 'something', 'financial', 'involvement', 'something'], ['money', 'paid', 'bank', 'financial', 'institution', 'keep', 'account', 'fixed', 'charge', 'borrowing', 'usually', 'percentage', 'amount', 'borrowed']]\n"
     ]
    }
   ],
   "execution_count": 4
  },
  {
   "cell_type": "markdown",
   "metadata": {},
   "source": [
    "**1j.** Chargez les données depuis `interest-original.txt` dans une liste appelée `sentences` qui contient pour chaque phrase la liste des mots (sans les séparateurs *$$* et *===...*).  Ces phrases sont-elles déjà tokenisées en mots ?  Sinon, faites-le.  À ce stade, ne modifiez pas encore les occurrences annotées *interest(s)\\_X*.  Comptez le nombre total de phrases et affichez-en trois au hasard."
   ]
  },
  {
   "cell_type": "code",
   "metadata": {
    "ExecuteTime": {
     "end_time": "2025-05-22T14:55:34.570021Z",
     "start_time": "2025-05-22T14:55:34.481062Z"
    }
   },
   "source": [
    "# Veuillez répondre ici à la question.\n",
    "sentences = []\n",
    "UNWANTED_CHAR = ['$$', '=']\n",
    "\n",
    "with open('data/interest-original.txt', 'r') as f:\n",
    "    for line in f:\n",
    "        line = line.strip()\n",
    "        sentence = []\n",
    "        for word in line.split():\n",
    "            if not any(char in word for char in UNWANTED_CHAR):\n",
    "                sentence.append(word)\n",
    "        if len(sentence) > 0:\n",
    "            sentences.append(sentence)\n",
    "\n",
    "print(f\"Il y a {len(sentences)} phrases.\\nEn voici 3 au hasard :\")\n",
    "print(sentences[151:154])"
   ],
   "outputs": [
    {
     "name": "stdout",
     "output_type": "stream",
     "text": [
      "Il y a 2368 phrases.\n",
      "En voici 3 au hasard :\n",
      "[['investor', 'interest_1', 'in', 'stock', 'funds', '``', 'has', \"n't\", 'stalled', 'at', 'all', ',', \"''\", 'mr.', 'hines', 'maintains', '.'], [\"''\", 'it', 'is', 'in', 'the', 'western', 'interest_4', 'to', 'see', 'mr.', 'gorbachev', 'succeed', '.'], ['revco', 'insists', 'that', 'the', 'proposal', 'is', 'simply', 'an', '``', 'expression', 'of', 'interest_1', ',', \"''\", 'because', 'under', 'chapter', '11', 'revco', 'has', '``', 'exclusivity', 'rights', \"''\", 'until', 'feb.', '28', '.']]\n"
     ]
    }
   ],
   "execution_count": 98
  },
  {
   "metadata": {},
   "cell_type": "markdown",
   "source": [
    "### Réponse à la question\n",
    "\n",
    "Oui, les phrases sont déjà tokenisées en mots."
   ]
  },
  {
   "cell_type": "markdown",
   "metadata": {},
   "source": [
    "## 2. Algorithme de Lesk simplifié\n",
    "\n",
    "**2a.** Définissez une fonction `wsd_lesk(senses, sentence)` qui prend deux arguments : une liste de listes de mots-clés (comme `senses1` et `senses2` ci-dessus) et une phrase avec une occurrence annotée de *interest* ou *interests*, et qui retourne l'index du sens le plus probable (entre 1 et 6) selon l'algorithme de Lesk.  Cet algorithme choisit le sens qui a le maximum de mots en commun avec le contexte de *interest*.  Vous pouvez choisir vous-mêmes la taille de ce voisinage (`window_size`).  En cas d'égalité entre deux sens, tirer la réponse au sort."
   ]
  },
  {
   "cell_type": "code",
   "metadata": {
    "ExecuteTime": {
     "end_time": "2025-05-22T11:39:22.458264Z",
     "start_time": "2025-05-22T11:39:22.450933Z"
    }
   },
   "source": [
    "def wsd_lesk(senses, sentence, window_size):\n",
    "    index = -1\n",
    "    pos = 0\n",
    "    for word in sentence:\n",
    "        if \"interest\" in word:\n",
    "            index = pos\n",
    "            break\n",
    "        pos += 1\n",
    "    context = sentence[max(index-window_size, 0):min(index+window_size, len(sentence))]\n",
    "    intersections = []\n",
    "    for sense in senses:\n",
    "        intersections.append(len(set(context).intersection(set(sense))))\n",
    "    return intersections.index(max(intersections)) + 1"
   ],
   "outputs": [],
   "execution_count": 6
  },
  {
   "cell_type": "markdown",
   "metadata": {},
   "source": [
    "**2b.** Définissez maintenant une fonction `evaluate_wsd(fct_name, senses, sentences)` qui prend en paramètre le nom de la méthode de similarité (pour commencer : `wsd_lesk`) ainsi que la liste des mots-clés par sens, et la liste de phrases, et qui retourne le score de la méthode de similarité.  Ce score sera tout simplement le pourcentage de réponses correctes (sens trouvé identique au sens annoté)."
   ]
  },
  {
   "cell_type": "code",
   "metadata": {
    "ExecuteTime": {
     "end_time": "2025-05-22T11:39:22.680814Z",
     "start_time": "2025-05-22T11:39:22.616536Z"
    }
   },
   "source": [
    "import re\n",
    "\n",
    "# Veuillez répondre ici à la question.\n",
    "def evaluate_wsd(fct_name, senses, sentences, window_size = 7):\n",
    "  score = 0\n",
    "  for sentence in sentences:\n",
    "    for i, w in enumerate(sentence):\n",
    "      if re.match('^interest[s]?_[1-6]$', w):\n",
    "        system_sense = int(w[-1])\n",
    "        result = fct_name(senses, sentence, window_size)\n",
    "        if system_sense == result:\n",
    "          score += 1\n",
    "  return score / len(sentences)\n",
    "\n",
    "evaluate_wsd(wsd_lesk, senses2, sentences, 5)"
   ],
   "outputs": [
    {
     "data": {
      "text/plain": [
       "0.1986970684039088"
      ]
     },
     "execution_count": 7,
     "metadata": {},
     "output_type": "execute_result"
    }
   ],
   "execution_count": 7
  },
  {
   "cell_type": "markdown",
   "metadata": {},
   "source": [
    "**2c.** En fixant au mieux la taille de la fenêtre autour de *interest*, quel est le meilleur score de la méthode de Lesk simplifiée ?  Quelle liste de sens conduit à de meilleurs scores, `senses1` ou `senses2` ?"
   ]
  },
  {
   "cell_type": "code",
   "metadata": {
    "ExecuteTime": {
     "end_time": "2025-05-22T14:31:14.334124Z",
     "start_time": "2025-05-22T14:31:11.699155Z"
    }
   },
   "source": [
    "# Veuillez répondre ici à la question.\n",
    "\n",
    "print('Sense1')\n",
    "for i in range(1, 20):\n",
    "  print(f'Score pour une taille de fenêtre de {i}: {evaluate_wsd(wsd_lesk, senses1, sentences, i)}')\n",
    "\n",
    "print('\\nSense2')\n",
    "for i in range(1, 20):\n",
    "  print(f'Score pour une taille de fenêtre de {i}: {evaluate_wsd(wsd_lesk, senses2, sentences, i)}')"
   ],
   "outputs": [
    {
     "name": "stdout",
     "output_type": "stream",
     "text": [
      "Sense1\n",
      "Score pour une taille de fenêtre de 1: 0.15371621621621623\n",
      "Score pour une taille de fenêtre de 2: 0.16258445945945946\n",
      "Score pour une taille de fenêtre de 3: 0.16807432432432431\n",
      "Score pour une taille de fenêtre de 4: 0.1710304054054054\n",
      "Score pour une taille de fenêtre de 5: 0.17567567567567569\n",
      "Score pour une taille de fenêtre de 6: 0.18074324324324326\n",
      "Score pour une taille de fenêtre de 7: 0.18243243243243243\n",
      "Score pour une taille de fenêtre de 8: 0.18623310810810811\n",
      "Score pour une taille de fenêtre de 9: 0.1891891891891892\n",
      "Score pour une taille de fenêtre de 10: 0.19130067567567569\n",
      "Score pour une taille de fenêtre de 11: 0.19045608108108109\n",
      "Score pour une taille de fenêtre de 12: 0.19172297297297297\n",
      "Score pour une taille de fenêtre de 13: 0.19341216216216217\n",
      "Score pour une taille de fenêtre de 14: 0.19763513513513514\n",
      "Score pour une taille de fenêtre de 15: 0.19763513513513514\n",
      "Score pour une taille de fenêtre de 16: 0.19721283783783783\n",
      "Score pour une taille de fenêtre de 17: 0.19932432432432431\n",
      "Score pour une taille de fenêtre de 18: 0.20016891891891891\n",
      "Score pour une taille de fenêtre de 19: 0.20101351351351351\n",
      "\n",
      "Sense2\n",
      "Score pour une taille de fenêtre de 1: 0.15582770270270271\n",
      "Score pour une taille de fenêtre de 2: 0.16554054054054054\n",
      "Score pour une taille de fenêtre de 3: 0.17398648648648649\n",
      "Score pour une taille de fenêtre de 4: 0.18538851351351351\n",
      "Score pour une taille de fenêtre de 5: 0.19890202702702703\n",
      "Score pour une taille de fenêtre de 6: 0.21072635135135134\n",
      "Score pour une taille de fenêtre de 7: 0.21621621621621623\n",
      "Score pour une taille de fenêtre de 8: 0.22255067567567569\n",
      "Score pour une taille de fenêtre de 9: 0.23184121621621623\n",
      "Score pour une taille de fenêtre de 10: 0.23775337837837837\n",
      "Score pour une taille de fenêtre de 11: 0.23902027027027026\n",
      "Score pour une taille de fenêtre de 12: 0.24493243243243243\n",
      "Score pour une taille de fenêtre de 13: 0.24957770270270271\n",
      "Score pour une taille de fenêtre de 14: 0.2533783783783784\n",
      "Score pour une taille de fenêtre de 15: 0.25380067567567566\n",
      "Score pour une taille de fenêtre de 16: 0.25548986486486486\n",
      "Score pour une taille de fenêtre de 17: 0.2592905405405405\n",
      "Score pour une taille de fenêtre de 18: 0.2592905405405405\n",
      "Score pour une taille de fenêtre de 19: 0.2622466216216216\n"
     ]
    }
   ],
   "execution_count": 50
  },
  {
   "metadata": {},
   "cell_type": "markdown",
   "source": [
    "### Réponse à la question\n",
    "\n",
    "Il semble que plus la fenêtre est grande, plus le score est élevé. Evidemment, le score ne s'amméliore plus si la taille de la fenêtre dépasse la taille de la phrase.\n",
    "\n",
    "Ainsi, on trouve au mieux un score de 0,2001 pour senses1 et 0,2622 pour senses2."
   ]
  },
  {
   "cell_type": "markdown",
   "metadata": {},
   "source": [
    "## 3. Utilisation de word2vec pour la similarité contexte vs. synset\n",
    "\n",
    "**3a.** En réutilisant une partie du code de `wsd_lesk`, veuillez maintenant définir une fonction `wsd_word2vec(senses, sentence)` qui choisit le sens en utilisant la similarité **word2vec** étudiée dans le labo précédent. \n",
    "* Vous pouvez chercher dans la [documentation des KeyedVectors](https://radimrehurek.com/gensim/models/keyedvectors.html) comment calculer directement la similarité entre deux listes de mots.\n",
    "* Comme `wsd_lesk`, la nouvelle fonction `wsd_word2vec` prend en argument une liste de listes de mots-clés par sens (comme `senses1` et `senses2` ci-dessus), et une phrase avec une occurrence annotée de *interest* ou *interests*.\n",
    "* La fonction retourne le numéro du sens le plus probable selon la similarité word2vec entre les mots du sens et ceux du voisinage de *interest*.  En cas d'égalité, tirer le sens au sort.\n",
    "* Vous pouvez régler la taille du voisinage (`window_size`) par l'expérimentation."
   ]
  },
  {
   "metadata": {
    "ExecuteTime": {
     "end_time": "2025-05-22T12:06:46.639298Z",
     "start_time": "2025-05-22T11:45:16.997427Z"
    }
   },
   "cell_type": "code",
   "source": [
    "from gensim import downloader as api\n",
    "w2v_vectors = api.load(\"word2vec-google-news-300\")"
   ],
   "outputs": [
    {
     "name": "stdout",
     "output_type": "stream",
     "text": [
      "[==================================================] 100.0% 1662.8/1662.8MB downloaded\n"
     ]
    }
   ],
   "execution_count": 11
  },
  {
   "cell_type": "code",
   "metadata": {
    "ExecuteTime": {
     "end_time": "2025-05-22T12:07:30.857130Z",
     "start_time": "2025-05-22T12:06:54.172032Z"
    }
   },
   "source": [
    "import gensim\n",
    "from gensim.models import KeyedVectors\n",
    "path_to_model = \"~/gensim-data/word2vec-google-news-300/word2vec-google-news-300.gz\" # à adapter\n",
    "wv_model = gensim.models.KeyedVectors.load_word2vec_format(path_to_model, binary=True)  # C bin format"
   ],
   "outputs": [],
   "execution_count": 12
  },
  {
   "cell_type": "code",
   "metadata": {
    "ExecuteTime": {
     "end_time": "2025-05-22T14:55:43.560594Z",
     "start_time": "2025-05-22T14:55:43.546135Z"
    }
   },
   "source": [
    "# Veuillez répondre ici à la question.\n",
    "import random\n",
    "\n",
    "def wsd_word2vec(senses, sentence, window_size):\n",
    "\n",
    "    index = 0\n",
    "    for pos, word in enumerate(sentence):\n",
    "        if re.match('^interest[s]?_[1-6]$', word):\n",
    "            index = pos\n",
    "            break\n",
    "\n",
    "    context = sentence[max(index - window_size, 0):min(index + window_size + 1, len(sentence))]\n",
    "    similarities = []\n",
    "\n",
    "    for sense in senses:\n",
    "        similarities.append(wv_model.n_similarity(sense, context))\n",
    "\n",
    "    max_score = 0\n",
    "    max_index = []\n",
    "    for j, sim in enumerate(similarities):\n",
    "        if sim > max_score:\n",
    "            max_score = sim\n",
    "            max_index = [j]\n",
    "        elif sim == max_score:\n",
    "            max_index.append(j)\n",
    "\n",
    "    return random.choice(max_index) + 1"
   ],
   "outputs": [],
   "execution_count": 99
  },
  {
   "cell_type": "markdown",
   "metadata": {},
   "source": [
    "**3b.** Appliquez maintenant la même méthode `evaluate_wsd` avec la fonction `wsd_word2vec` (en cherchant une bonne valeur de la taille de la fenêtre) et affichez le score de la similarité word2vec.  Comment se compare-t-il avec le score précédent (Lesk) ?"
   ]
  },
  {
   "metadata": {
    "ExecuteTime": {
     "end_time": "2025-05-22T14:55:48.613258Z",
     "start_time": "2025-05-22T14:55:48.599877Z"
    }
   },
   "cell_type": "code",
   "source": "senses1_mas = [['readiness', 'give', 'attention'], ['quality', 'given', 'attention', 'causing'], ['gives', 'activity', 'attention'], ['advantage', 'advancement', 'favor'], ['business', 'company', 'share'], ['money', 'paid']]",
   "outputs": [],
   "execution_count": 100
  },
  {
   "cell_type": "code",
   "metadata": {
    "ExecuteTime": {
     "end_time": "2025-05-22T14:56:51.196967Z",
     "start_time": "2025-05-22T14:55:50.300924Z"
    }
   },
   "source": [
    "# Veuillez répondre ici à la question.\n",
    "print('Sense1')\n",
    "for i in range(1, 20):\n",
    "  print(f'Score pour une taille de fenêtre de {i}: {evaluate_wsd(wsd_word2vec, senses1, sentences, i)}')\n",
    "\n",
    "print('\\nSense2')\n",
    "for i in range(1, 20):\n",
    "  print(f'Score pour une taille de fenêtre de {i}: {evaluate_wsd(wsd_word2vec, senses2, sentences, i)}')"
   ],
   "outputs": [
    {
     "name": "stdout",
     "output_type": "stream",
     "text": [
      "Sense1\n",
      "Score pour une taille de fenêtre de 1: 0.296875\n",
      "Score pour une taille de fenêtre de 2: 0.3374155405405405\n",
      "Score pour une taille de fenêtre de 3: 0.3640202702702703\n",
      "Score pour une taille de fenêtre de 4: 0.3940033783783784\n",
      "Score pour une taille de fenêtre de 5: 0.3999155405405405\n",
      "Score pour une taille de fenêtre de 6: 0.40540540540540543\n",
      "Score pour une taille de fenêtre de 7: 0.4125844594594595\n",
      "Score pour une taille de fenêtre de 8: 0.40878378378378377\n",
      "Score pour une taille de fenêtre de 9: 0.4083614864864865\n",
      "Score pour une taille de fenêtre de 10: 0.4079391891891892\n",
      "Score pour une taille de fenêtre de 11: 0.41638513513513514\n",
      "Score pour une taille de fenêtre de 12: 0.4231418918918919\n",
      "Score pour une taille de fenêtre de 13: 0.42694256756756754\n",
      "Score pour une taille de fenêtre de 14: 0.42567567567567566\n",
      "Score pour une taille de fenêtre de 15: 0.41807432432432434\n",
      "Score pour une taille de fenêtre de 16: 0.4189189189189189\n",
      "Score pour une taille de fenêtre de 17: 0.41680743243243246\n",
      "Score pour une taille de fenêtre de 18: 0.41596283783783783\n",
      "Score pour une taille de fenêtre de 19: 0.41680743243243246\n",
      "\n",
      "Sense2\n",
      "Score pour une taille de fenêtre de 1: 0.5574324324324325\n",
      "Score pour une taille de fenêtre de 2: 0.5924831081081081\n",
      "Score pour une taille de fenêtre de 3: 0.605152027027027\n",
      "Score pour une taille de fenêtre de 4: 0.606418918918919\n",
      "Score pour une taille de fenêtre de 5: 0.606418918918919\n",
      "Score pour une taille de fenêtre de 6: 0.6152871621621622\n",
      "Score pour une taille de fenêtre de 7: 0.6144425675675675\n",
      "Score pour une taille de fenêtre de 8: 0.6106418918918919\n",
      "Score pour une taille de fenêtre de 9: 0.6085304054054054\n",
      "Score pour une taille de fenêtre de 10: 0.6059966216216216\n",
      "Score pour une taille de fenêtre de 11: 0.597972972972973\n",
      "Score pour une taille de fenêtre de 12: 0.590793918918919\n",
      "Score pour une taille de fenêtre de 13: 0.5853040540540541\n",
      "Score pour une taille de fenêtre de 14: 0.5874155405405406\n",
      "Score pour une taille de fenêtre de 15: 0.5983952702702703\n",
      "Score pour une taille de fenêtre de 16: 0.5941722972972973\n",
      "Score pour une taille de fenêtre de 17: 0.5899493243243243\n",
      "Score pour une taille de fenêtre de 18: 0.5958614864864865\n",
      "Score pour une taille de fenêtre de 19: 0.5920608108108109\n"
     ]
    }
   ],
   "execution_count": 101
  },
  {
   "cell_type": "markdown",
   "metadata": {},
   "source": [
    "## 4. Classification supervisée avec des traits lexicaux\n",
    "Vous entraînerez maintenant des classifieurs pour prédire le sens d'une occurrence dans une phrase.  Le premier but sera de transformer chaque phrase en un ensemble d'attributs pour formater les données en vue des expériences de classification.\n",
    "\n",
    "Veuillez utiliser le classifieur `NaiveBayesClassifier` fourni par NLTK.  Le mode d'emploi se trouve dans le [Chapitre 6, sections 1.1-1.3](https://www.nltk.org/book/ch06.html) du livre NLTK.  Consultez-le attentivement pour trouver comment formater les données.  De plus, il faudra séparer les données en sous-ensembles d'entraînement et de test."
   ]
  },
  {
   "cell_type": "markdown",
   "metadata": {},
   "source": [
    "On vous propose de nommer les attributs `word-k`, ..., `word-2`, `word-1`, `word+1`, `word+2`, ..., `word+k` (fenêtre de taille `2*k` autour de *interest*).  Leurs valeurs sont les mots observés aux emplacements respectifs, ou `NONE` si la position dépasse l'étendue de la phrase.  Vous ajouterez un attribut nommé `word0` qui est l'occurrence du mot *interest* au singulier ou au pluriel.  \n",
    "\n",
    "Pour chaque occurrence de *interest*, vous devrez donc créer la représentation suivante (où `6` est le numéro du sens, essentiel pour l'entraînement, mais à cacher lors de l'évaluation) :\n",
    "```\n",
    "[{'word-1': 'in', 'word+1': 'rates', 'word-2': 'declines', 'word+2': 'NONE', 'word0': 'interest'}, 6]\n",
    "```\n",
    "\n",
    "**4a.** En partant de la liste des phrases appelée `sentences` préparée plus haut, veuillez générer la liste avec toutes les représentation, appelée `items_with_features`.  Vous pouvez vous aider du livre NLTK."
   ]
  },
  {
   "cell_type": "code",
   "metadata": {
    "ExecuteTime": {
     "end_time": "2025-05-22T15:01:29.544807Z",
     "start_time": "2025-05-22T15:01:29.468932Z"
    }
   },
   "source": [
    "# Veuillez répondre ici à la question.\n",
    "k = 2\n",
    "items_with_features = []\n",
    "for sentence in sentences:\n",
    "    for idx, word in enumerate(sentence):\n",
    "        if re.match('^interest[s]?_[1-6]$', word):\n",
    "            real_word, label = word.split(\"_\")\n",
    "\n",
    "            features = {}\n",
    "\n",
    "            for offset in range(1, k + 1):\n",
    "                features[f\"word-{offset}\"] = sentence[idx - offset] if idx - offset >= 0 else \"NONE\"\n",
    "                features[f\"word+{offset}\"] = sentence[idx + offset] if idx + offset < len(sentence) else \"NONE\"\n",
    "\n",
    "            features[\"word0\"] = real_word\n",
    "\n",
    "            items_with_features.append([features, int(label)])\n",
    "\n",
    "\n",
    "print(len(items_with_features))\n",
    "print(items_with_features[151:154])"
   ],
   "outputs": [
    {
     "name": "stdout",
     "output_type": "stream",
     "text": [
      "2368\n",
      "[[{'word-1': 'investor', 'word+1': 'in', 'word-2': 'NONE', 'word+2': 'stock', 'word0': 'interest'}, 1], [{'word-1': 'western', 'word+1': 'to', 'word-2': 'the', 'word+2': 'see', 'word0': 'interest'}, 4], [{'word-1': 'of', 'word+1': ',', 'word-2': 'expression', 'word+2': \"''\", 'word0': 'interest'}, 1]]\n"
     ]
    }
   ],
   "execution_count": 112
  },
  {
   "cell_type": "markdown",
   "metadata": {},
   "source": [
    "**4b.** Veuillez séparer les données aléatoirement en 80% pour l'entraînement et 20%  pour l'évaluation.  Veuillez faire une division stratifiée : les deux sous-ensembles doivent contenir les mêmes proportions de sens que l'ensemble de départ.  Ils seront appelés `iwf_train` et `iwf_test`."
   ]
  },
  {
   "cell_type": "code",
   "metadata": {
    "ExecuteTime": {
     "end_time": "2025-05-22T14:34:17.718545Z",
     "start_time": "2025-05-22T14:34:17.708370Z"
    }
   },
   "source": [
    "from random import shuffle"
   ],
   "outputs": [],
   "execution_count": 52
  },
  {
   "cell_type": "code",
   "metadata": {
    "ExecuteTime": {
     "end_time": "2025-05-22T15:01:34.139009Z",
     "start_time": "2025-05-22T15:01:34.118147Z"
    }
   },
   "source": [
    "iwf_train = []\n",
    "iwf_test  = []\n",
    "# Veuillez répondre ici à la question.\n",
    "items_by_features = {1: [], 2: [], 3: [], 4: [], 5: [], 6: []}\n",
    "for item in items_with_features:\n",
    "    items_by_features[item[1]].append(item[0])\n",
    "\n",
    "for i, sent in items_by_features.items():\n",
    "    shuffle(sent)\n",
    "    split = int(len(sent) * 0.8)\n",
    "    iwf_train.extend([sent, i] for sent in sent[:split])\n",
    "    iwf_test.extend([sent, i] for sent in sent[split:])\n",
    "\n",
    "print(len(iwf_train), ' ', len(iwf_test))\n",
    "print(iwf_test[:2], iwf_test[-2:])"
   ],
   "outputs": [
    {
     "name": "stdout",
     "output_type": "stream",
     "text": [
      "1891   477\n",
      "[[{'word-1': 'buying', 'word+1': 'after', 'word-2': 'found', 'word+2': 'being', 'word0': 'interest'}, 1], [{'word-1': 'more', 'word+1': 'in', 'word-2': 'bit', 'word+2': 'golf', 'word0': 'interest'}, 1]] [[{'word-1': 'tighter', 'word+1': 'margins', 'word-2': 'and', 'word+2': '.', 'word0': 'interest'}, 6], [{'word-1': 'pay', 'word+1': 'periodically', 'word-2': 'not', 'word+2': '.', 'word0': 'interest'}, 6]]\n"
     ]
    }
   ],
   "execution_count": 113
  },
  {
   "cell_type": "markdown",
   "metadata": {},
   "source": [
    "**4c.** Veuillez créer une instance de `NaiveBayesClassifier`, l'entraîner sur `iwf_train` et la tester sur `iwf_test` (voir la documentation NLTK).  En expérimentant avec différentes largeurs de fenêtres, quel est le meilleur score que vous obtenez (avec la fonction `accuracy` de NLTK) sur l'ensemble de test ?  Comment se compare-t-il avec les précédents ?"
   ]
  },
  {
   "cell_type": "code",
   "metadata": {
    "ExecuteTime": {
     "end_time": "2025-05-22T15:01:38.746577Z",
     "start_time": "2025-05-22T15:01:38.686228Z"
    }
   },
   "source": [
    "from nltk.classify import naivebayes\n",
    "# Veuillez répondre ici à la question.\n",
    "classifier = naivebayes.NaiveBayesClassifier.train(iwf_train)\n",
    "\n",
    "print(f\"Score de l'algorithme de classification Naive Bayes: {nltk.classify.accuracy(classifier, iwf_test)}\")"
   ],
   "outputs": [
    {
     "name": "stdout",
     "output_type": "stream",
     "text": [
      "Score de l'algorithme de classification Naive Bayes: 0.8825995807127882\n"
     ]
    }
   ],
   "execution_count": 114
  },
  {
   "cell_type": "markdown",
   "metadata": {},
   "source": [
    "**4d.** En utilisant la fonction `show_most_informative_features()`, veuillez afficher les attributs les plus informatifs et commenter le résultat."
   ]
  },
  {
   "cell_type": "code",
   "metadata": {
    "ExecuteTime": {
     "end_time": "2025-05-22T15:01:43.264707Z",
     "start_time": "2025-05-22T15:01:43.239310Z"
    }
   },
   "source": "classifier.show_most_informative_features()",
   "outputs": [
    {
     "name": "stdout",
     "output_type": "stream",
     "text": [
      "Most Informative Features\n",
      "                  word+1 = 'in'                5 : 6      =     73.1 : 1.0\n",
      "                   word0 = 'interests'         3 : 1      =     64.7 : 1.0\n",
      "                  word+1 = 'of'                4 : 6      =     47.0 : 1.0\n",
      "                  word-1 = 'other'             3 : 6      =     39.6 : 1.0\n",
      "                  word+2 = '.'                 6 : 1      =     33.0 : 1.0\n",
      "                  word-2 = 'have'              1 : 6      =     21.1 : 1.0\n",
      "                  word-1 = 'own'               4 : 6      =     17.5 : 1.0\n",
      "                  word-1 = 'in'                6 : 5      =     17.5 : 1.0\n",
      "                  word-2 = 'the'               4 : 3      =     17.4 : 1.0\n",
      "                  word+2 = 'and'               6 : 1      =     15.4 : 1.0\n"
     ]
    }
   ],
   "execution_count": 115
  },
  {
   "cell_type": "markdown",
   "metadata": {},
   "source": [
    "**4e.** On souhaite également obtenir les scores pour chaque sens.  Pour ce faire, il faut demander les prédictions une par une au classifieur (voir le [livre NLTK](https://www.nltk.org/book/ch06.html)), et comptabiliser les prédictions correctes pour chaque sens.  Vous pouvez vous inspirer de `evaluate_wsd`, et écrire une fonction `evaluate_wsd_supervised(classifier, items_with_features)`, que vous appliquerez aux donnés `iwf_test`.  Veuillez afficher ces scores."
   ]
  },
  {
   "cell_type": "code",
   "metadata": {
    "ExecuteTime": {
     "end_time": "2025-05-22T15:05:43.820921Z",
     "start_time": "2025-05-22T15:05:43.769141Z"
    }
   },
   "source": [
    "def evaluate_wsd_supervised(classifier, items_with_features):\n",
    "    scores = {}\n",
    "    total_counts = {}\n",
    "\n",
    "    for item in items_with_features:\n",
    "        features, true_label = item\n",
    "        predicted_label = classifier.classify(features)\n",
    "\n",
    "        if true_label not in scores:\n",
    "            scores[true_label] = 0\n",
    "            total_counts[true_label] = 0\n",
    "\n",
    "        total_counts[true_label] += 1\n",
    "\n",
    "        if predicted_label == true_label:\n",
    "            scores[true_label] += 1\n",
    "\n",
    "    print(\"Scores par sens :\")\n",
    "    for sense in scores:\n",
    "        correct_count = scores[sense]\n",
    "        total_count = total_counts[sense]\n",
    "        accuracy = correct_count / total_count if total_count > 0 else 0\n",
    "        print(f\"Sens {sense} : {correct_count}/{total_count} corrects ({accuracy:.2%})\")\n",
    "\n",
    "    return scores\n",
    "\n",
    "evaluate_wsd_supervised(classifier, iwf_test)"
   ],
   "outputs": [
    {
     "name": "stdout",
     "output_type": "stream",
     "text": [
      "Scores par sens :\n",
      "Sens 1 : 59/73 corrects (80.82%)\n",
      "Sens 2 : 0/3 corrects (0.00%)\n",
      "Sens 3 : 10/14 corrects (71.43%)\n",
      "Sens 4 : 30/36 corrects (83.33%)\n",
      "Sens 5 : 86/100 corrects (86.00%)\n",
      "Sens 6 : 236/251 corrects (94.02%)\n"
     ]
    },
    {
     "data": {
      "text/plain": [
       "{1: 59, 2: 0, 3: 10, 4: 30, 5: 86, 6: 236}"
      ]
     },
     "execution_count": 116,
     "metadata": {},
     "output_type": "execute_result"
    }
   ],
   "execution_count": 116
  },
  {
   "cell_type": "markdown",
   "metadata": {},
   "source": [
    "## 5. Conclusion\n",
    "\n",
    "Veuillez recopier ci-dessous, en guise de conclusion, les scores des trois expériences réalisées, pour pouvoir les comparer d'un coup d'oeil.  Quel est le meilleur score obtenu?"
   ]
  },
  {
   "cell_type": "code",
   "execution_count": null,
   "metadata": {},
   "outputs": [],
   "source": []
  },
  {
   "cell_type": "markdown",
   "metadata": {},
   "source": [
    "## Fin du laboratoire\n",
    "\n",
    "Merci de nettoyer votre feuille, sauvegarder le résultat, et soumettre le *notebook* sur Cyberlearn."
   ]
  },
  {
   "cell_type": "code",
   "execution_count": null,
   "metadata": {},
   "outputs": [],
   "source": []
  }
 ],
 "metadata": {
  "kernelspec": {
   "display_name": "Python 3 (ipykernel)",
   "language": "python",
   "name": "python3"
  },
  "language_info": {
   "codemirror_mode": {
    "name": "ipython",
    "version": 3
   },
   "file_extension": ".py",
   "mimetype": "text/x-python",
   "name": "python",
   "nbconvert_exporter": "python",
   "pygments_lexer": "ipython3",
   "version": "3.10.13"
  }
 },
 "nbformat": 4,
 "nbformat_minor": 4
}
